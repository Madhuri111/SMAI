{
 "cells": [
  {
   "cell_type": "markdown",
   "metadata": {},
   "source": [
    "# Excercise 1\n",
    "\n",
    "In the tutorial you saw how to compute LDA for a two class problem. In this excercise we will work on a multi-class problem. We will be working with the famous Iris dataset that has been deposited on the UCI machine learning repository\n",
    "(https://archive.ics.uci.edu/ml/datasets/Iris).\n",
    "\n",
    "The iris dataset contains measurements for 150 iris flowers from three different species.\n",
    "\n",
    "The three classes in the Iris dataset:\n",
    "1. Iris-setosa (n=50)\n",
    "2. Iris-versicolor (n=50)\n",
    "3. Iris-virginica (n=50)\n",
    "\n",
    "The four features of the Iris dataset:\n",
    "1. sepal length in cm\n",
    "2. sepal width in cm\n",
    "3. petal length in cm\n",
    "4. petal width in cm\n",
    "\n",
    "<img src=\"iris_petal_sepal.png\">\n",
    "\n"
   ]
  },
  {
   "cell_type": "code",
   "execution_count": 1,
   "metadata": {},
   "outputs": [],
   "source": [
    "from sklearn.datasets import make_classification\n",
    "import matplotlib.pyplot as plt\n",
    "from statistics import mode\n",
    "from collections import Counter \n",
    "import numpy as np\n",
    "import seaborn as sns; sns.set();\n",
    "import pandas as pd\n",
    "from itertools import combinations \n",
    "import math\n",
    "from sklearn.model_selection import train_test_split\n",
    "from numpy import pi"
   ]
  },
  {
   "cell_type": "markdown",
   "metadata": {},
   "source": [
    "### Importing the dataset"
   ]
  },
  {
   "cell_type": "code",
   "execution_count": 2,
   "metadata": {},
   "outputs": [
    {
     "data": {
      "text/html": [
       "<div>\n",
       "<style scoped>\n",
       "    .dataframe tbody tr th:only-of-type {\n",
       "        vertical-align: middle;\n",
       "    }\n",
       "\n",
       "    .dataframe tbody tr th {\n",
       "        vertical-align: top;\n",
       "    }\n",
       "\n",
       "    .dataframe thead th {\n",
       "        text-align: right;\n",
       "    }\n",
       "</style>\n",
       "<table border=\"1\" class=\"dataframe\">\n",
       "  <thead>\n",
       "    <tr style=\"text-align: right;\">\n",
       "      <th></th>\n",
       "      <th>sepal-length</th>\n",
       "      <th>sepal-width</th>\n",
       "      <th>petal-length</th>\n",
       "      <th>petal-width</th>\n",
       "      <th>Class</th>\n",
       "    </tr>\n",
       "  </thead>\n",
       "  <tbody>\n",
       "    <tr>\n",
       "      <th>145</th>\n",
       "      <td>6.7</td>\n",
       "      <td>3.0</td>\n",
       "      <td>5.2</td>\n",
       "      <td>2.3</td>\n",
       "      <td>Iris-virginica</td>\n",
       "    </tr>\n",
       "    <tr>\n",
       "      <th>146</th>\n",
       "      <td>6.3</td>\n",
       "      <td>2.5</td>\n",
       "      <td>5.0</td>\n",
       "      <td>1.9</td>\n",
       "      <td>Iris-virginica</td>\n",
       "    </tr>\n",
       "    <tr>\n",
       "      <th>147</th>\n",
       "      <td>6.5</td>\n",
       "      <td>3.0</td>\n",
       "      <td>5.2</td>\n",
       "      <td>2.0</td>\n",
       "      <td>Iris-virginica</td>\n",
       "    </tr>\n",
       "    <tr>\n",
       "      <th>148</th>\n",
       "      <td>6.2</td>\n",
       "      <td>3.4</td>\n",
       "      <td>5.4</td>\n",
       "      <td>2.3</td>\n",
       "      <td>Iris-virginica</td>\n",
       "    </tr>\n",
       "    <tr>\n",
       "      <th>149</th>\n",
       "      <td>5.9</td>\n",
       "      <td>3.0</td>\n",
       "      <td>5.1</td>\n",
       "      <td>1.8</td>\n",
       "      <td>Iris-virginica</td>\n",
       "    </tr>\n",
       "  </tbody>\n",
       "</table>\n",
       "</div>"
      ],
      "text/plain": [
       "     sepal-length  sepal-width  petal-length  petal-width           Class\n",
       "145           6.7          3.0           5.2          2.3  Iris-virginica\n",
       "146           6.3          2.5           5.0          1.9  Iris-virginica\n",
       "147           6.5          3.0           5.2          2.0  Iris-virginica\n",
       "148           6.2          3.4           5.4          2.3  Iris-virginica\n",
       "149           5.9          3.0           5.1          1.8  Iris-virginica"
      ]
     },
     "execution_count": 2,
     "metadata": {},
     "output_type": "execute_result"
    }
   ],
   "source": [
    "url = \"https://archive.ics.uci.edu/ml/machine-learning-databases/iris/iris.data\"\n",
    "names = ['sepal-length', 'sepal-width', 'petal-length', 'petal-width', 'Class']\n",
    "dataset = pd.read_csv(url, names=names)\n",
    "\n",
    "dataset.tail()"
   ]
  },
  {
   "cell_type": "code",
   "execution_count": 3,
   "metadata": {},
   "outputs": [
    {
     "data": {
      "text/html": [
       "<div>\n",
       "<style scoped>\n",
       "    .dataframe tbody tr th:only-of-type {\n",
       "        vertical-align: middle;\n",
       "    }\n",
       "\n",
       "    .dataframe tbody tr th {\n",
       "        vertical-align: top;\n",
       "    }\n",
       "\n",
       "    .dataframe thead th {\n",
       "        text-align: right;\n",
       "    }\n",
       "</style>\n",
       "<table border=\"1\" class=\"dataframe\">\n",
       "  <thead>\n",
       "    <tr style=\"text-align: right;\">\n",
       "      <th></th>\n",
       "      <th>sepal-length</th>\n",
       "      <th>sepal-width</th>\n",
       "      <th>petal-length</th>\n",
       "      <th>petal-width</th>\n",
       "      <th>Class</th>\n",
       "    </tr>\n",
       "  </thead>\n",
       "  <tbody>\n",
       "    <tr>\n",
       "      <th>0</th>\n",
       "      <td>5.1</td>\n",
       "      <td>3.5</td>\n",
       "      <td>1.4</td>\n",
       "      <td>0.2</td>\n",
       "      <td>Iris-setosa</td>\n",
       "    </tr>\n",
       "    <tr>\n",
       "      <th>1</th>\n",
       "      <td>4.9</td>\n",
       "      <td>3.0</td>\n",
       "      <td>1.4</td>\n",
       "      <td>0.2</td>\n",
       "      <td>Iris-setosa</td>\n",
       "    </tr>\n",
       "    <tr>\n",
       "      <th>2</th>\n",
       "      <td>4.7</td>\n",
       "      <td>3.2</td>\n",
       "      <td>1.3</td>\n",
       "      <td>0.2</td>\n",
       "      <td>Iris-setosa</td>\n",
       "    </tr>\n",
       "    <tr>\n",
       "      <th>3</th>\n",
       "      <td>4.6</td>\n",
       "      <td>3.1</td>\n",
       "      <td>1.5</td>\n",
       "      <td>0.2</td>\n",
       "      <td>Iris-setosa</td>\n",
       "    </tr>\n",
       "    <tr>\n",
       "      <th>4</th>\n",
       "      <td>5.0</td>\n",
       "      <td>3.6</td>\n",
       "      <td>1.4</td>\n",
       "      <td>0.2</td>\n",
       "      <td>Iris-setosa</td>\n",
       "    </tr>\n",
       "    <tr>\n",
       "      <th>...</th>\n",
       "      <td>...</td>\n",
       "      <td>...</td>\n",
       "      <td>...</td>\n",
       "      <td>...</td>\n",
       "      <td>...</td>\n",
       "    </tr>\n",
       "    <tr>\n",
       "      <th>145</th>\n",
       "      <td>6.7</td>\n",
       "      <td>3.0</td>\n",
       "      <td>5.2</td>\n",
       "      <td>2.3</td>\n",
       "      <td>Iris-virginica</td>\n",
       "    </tr>\n",
       "    <tr>\n",
       "      <th>146</th>\n",
       "      <td>6.3</td>\n",
       "      <td>2.5</td>\n",
       "      <td>5.0</td>\n",
       "      <td>1.9</td>\n",
       "      <td>Iris-virginica</td>\n",
       "    </tr>\n",
       "    <tr>\n",
       "      <th>147</th>\n",
       "      <td>6.5</td>\n",
       "      <td>3.0</td>\n",
       "      <td>5.2</td>\n",
       "      <td>2.0</td>\n",
       "      <td>Iris-virginica</td>\n",
       "    </tr>\n",
       "    <tr>\n",
       "      <th>148</th>\n",
       "      <td>6.2</td>\n",
       "      <td>3.4</td>\n",
       "      <td>5.4</td>\n",
       "      <td>2.3</td>\n",
       "      <td>Iris-virginica</td>\n",
       "    </tr>\n",
       "    <tr>\n",
       "      <th>149</th>\n",
       "      <td>5.9</td>\n",
       "      <td>3.0</td>\n",
       "      <td>5.1</td>\n",
       "      <td>1.8</td>\n",
       "      <td>Iris-virginica</td>\n",
       "    </tr>\n",
       "  </tbody>\n",
       "</table>\n",
       "<p>150 rows × 5 columns</p>\n",
       "</div>"
      ],
      "text/plain": [
       "     sepal-length  sepal-width  petal-length  petal-width           Class\n",
       "0             5.1          3.5           1.4          0.2     Iris-setosa\n",
       "1             4.9          3.0           1.4          0.2     Iris-setosa\n",
       "2             4.7          3.2           1.3          0.2     Iris-setosa\n",
       "3             4.6          3.1           1.5          0.2     Iris-setosa\n",
       "4             5.0          3.6           1.4          0.2     Iris-setosa\n",
       "..            ...          ...           ...          ...             ...\n",
       "145           6.7          3.0           5.2          2.3  Iris-virginica\n",
       "146           6.3          2.5           5.0          1.9  Iris-virginica\n",
       "147           6.5          3.0           5.2          2.0  Iris-virginica\n",
       "148           6.2          3.4           5.4          2.3  Iris-virginica\n",
       "149           5.9          3.0           5.1          1.8  Iris-virginica\n",
       "\n",
       "[150 rows x 5 columns]"
      ]
     },
     "execution_count": 3,
     "metadata": {},
     "output_type": "execute_result"
    }
   ],
   "source": [
    "dataset"
   ]
  },
  {
   "cell_type": "markdown",
   "metadata": {},
   "source": [
    "### Data preprocessing\n",
    "\n",
    "Once dataset is loaded into a pandas data frame object, the first step is to divide dataset into features and corresponding labels and then divide the resultant dataset into training and test sets. The following code divides data into labels and feature set:"
   ]
  },
  {
   "cell_type": "code",
   "execution_count": 4,
   "metadata": {},
   "outputs": [],
   "source": [
    "X = dataset.iloc[:, 0:4].values\n",
    "y = dataset.iloc[:, 4].values"
   ]
  },
  {
   "cell_type": "markdown",
   "metadata": {},
   "source": [
    "The above script assigns the first four columns of the dataset i.e. the feature set to X variable while the values in the fifth column (labels) are assigned to the y variable.\n",
    "\n",
    "The following code divides data into training and test sets:"
   ]
  },
  {
   "cell_type": "code",
   "execution_count": 5,
   "metadata": {},
   "outputs": [
    {
     "name": "stdout",
     "output_type": "stream",
     "text": [
      "[0 1 2]\n"
     ]
    }
   ],
   "source": [
    "from sklearn.model_selection import train_test_split\n",
    "\n",
    "X_train, X_test, y_train, y_test = train_test_split(X, y, test_size=0.2, random_state=0)\n",
    "y_train[y_train=='Iris-setosa']=0\n",
    "y_train[y_train=='Iris-versicolor']=1\n",
    "y_train[y_train=='Iris-virginica']=2\n",
    "y_train=np.array(y_train,'int')\n",
    "y_test[y_test=='Iris-setosa']=0\n",
    "y_test[y_test=='Iris-versicolor']=1\n",
    "y_test[y_test=='Iris-virginica']=2\n",
    "y_test=np.array(y_test,'int')\n",
    "\n",
    "print(np.unique(y_train))"
   ]
  },
  {
   "cell_type": "markdown",
   "metadata": {},
   "source": [
    "#### Feature Scaling\n",
    "\n",
    "We will now perform feature scaling as part of data preprocessing too. For this task, we will be using scikit learn `StandardScalar`."
   ]
  },
  {
   "cell_type": "code",
   "execution_count": 6,
   "metadata": {},
   "outputs": [],
   "source": [
    "from sklearn.preprocessing import StandardScaler\n",
    "\n",
    "sc = StandardScaler()\n",
    "X_train = sc.fit_transform(X_train)\n",
    "X_test = sc.transform(X_test)"
   ]
  },
  {
   "cell_type": "markdown",
   "metadata": {},
   "source": [
    "## Write your code below\n",
    "\n",
    "Write you code below to LDA on the IRIS dataset and compute the overall accuracy of the classifier."
   ]
  },
  {
   "cell_type": "code",
   "execution_count": 7,
   "metadata": {},
   "outputs": [
    {
     "name": "stdout",
     "output_type": "stream",
     "text": [
      "[[-1.01586337  0.81196943 -1.32453421 -1.28332359]\n",
      " [ 0.00667522 -0.67697955  0.22525676  0.12090146]\n",
      " [ 0.8948111  -0.15042192  0.9845985   1.03582423]]\n",
      "[ 0.00000000e+00 -7.49863135e-16  4.25585493e-16  1.22124533e-16]\n"
     ]
    }
   ],
   "source": [
    "#finding means\n",
    "mean1=np.zeros((3,4))\n",
    "final=np.zeros(X_train.shape[1])\n",
    "flag=[0,0,0]\n",
    "for i in range(X_train.shape[0]):\n",
    "    if (y_train[i]==0):\n",
    "        mean1[0]+=X_train[i]\n",
    "        flag[0]+=1\n",
    "    if (y_train[i]==1):\n",
    "        mean1[1]+=X_train[i]\n",
    "        flag[1]+=1\n",
    "    if (y_train[i]==2):\n",
    "        mean1[2]+=X_train[i]\n",
    "        flag[2]+=1\n",
    "    final+=X_train[i]\n",
    "final=final/np.sum(flag)\n",
    "mean1[0]/=flag[0]\n",
    "mean1[1]/=flag[1]\n",
    "mean1[2]/=flag[2]\n",
    "print(mean1)\n",
    "print(final)\n"
   ]
  },
  {
   "cell_type": "code",
   "execution_count": 8,
   "metadata": {
    "scrolled": true
   },
   "outputs": [
    {
     "name": "stdout",
     "output_type": "stream",
     "text": [
      "[[44.52097054 30.99078596 13.79582236  7.7224602 ]\n",
      " [30.99078596 76.33479439  8.78955077 11.47388844]\n",
      " [13.79582236  8.78955077  7.0462481   4.00213667]\n",
      " [ 7.7224602  11.47388844  4.00213667  8.02030645]]\n",
      "[[ 75.47902946 -38.25871753  91.29722578  91.65558497]\n",
      " [-38.25871753  43.66520561 -54.10268478 -50.52279974]\n",
      " [ 91.29722578 -54.10268478 112.9537519  112.1744104 ]\n",
      " [ 91.65558497 -50.52279974 112.1744104  111.97969355]]\n",
      "[[ 0.18577978  0.68274612]\n",
      " [ 0.11909601 -0.08106869]\n",
      " [-0.86734704  0.12046705]\n",
      " [-0.44610662 -0.71608191]] [3.20713082e+01 1.29920526e-15]\n"
     ]
    }
   ],
   "source": [
    "#finding sw and sb\n",
    "sw=np.zeros((4,4))\n",
    "me=X_train-mean1[y_train]\n",
    "sw=me.T@me\n",
    "print(sw)\n",
    "sb=np.zeros((4,4))\n",
    "for i in range(3):\n",
    "    mat=np.array(mean1[i]-final)\n",
    "    mat=[mat]\n",
    "    mat=np.array(mat)\n",
    "    #print(mat.shape)\n",
    "    #print((mat.T.dot(mat)))\n",
    "    sb=sb+(flag[i]*np.matmul(mat.T,mat))\n",
    "print(sb)\n",
    "eigvals, eigvecs = np.linalg.eig(np.linalg.pinv(sw).dot(sb))\n",
    "idx = eigvals.argsort()[::-2]\n",
    "eigvals = eigvals[idx][:2]\n",
    "w = np.real(np.atleast_1d(eigvecs[:, idx])[:, :2])\n",
    "print(w,eigvals)"
   ]
  },
  {
   "cell_type": "code",
   "execution_count": 9,
   "metadata": {},
   "outputs": [
    {
     "name": "stdout",
     "output_type": "stream",
     "text": [
      "[-5.12916592e-16  2.46082829e-17]\n",
      "[[ 1.62930543e+00 -1.66533454e-15]\n",
      " [-3.28696166e-01  4.50334214e-15]\n",
      " [-1.16775349e+00 -1.88737914e-15]]\n"
     ]
    }
   ],
   "source": [
    "X_train_new=X_train@w\n",
    "X_test_new=X_test@w\n",
    "mean11=mean1@w\n",
    "final_new=final@w\n",
    "print(final_new)\n",
    "print(mean11)"
   ]
  },
  {
   "cell_type": "code",
   "execution_count": 10,
   "metadata": {},
   "outputs": [],
   "source": [
    "def clas(X):\n",
    "    return np.argmin([np.sqrt(((X - mean11[i])**2).sum(axis=1)) for i in range(3)], axis=0)\n",
    "def accuracy(y_pred, y_actual):\n",
    "    return (y_pred==y_actual).sum()/y_actual.shape[0]*100"
   ]
  },
  {
   "cell_type": "code",
   "execution_count": 11,
   "metadata": {},
   "outputs": [
    {
     "name": "stdout",
     "output_type": "stream",
     "text": [
      "training accuracy :  98.33333333333333\n",
      "training accuracy :  100.0\n"
     ]
    }
   ],
   "source": [
    "train = accuracy( clas(X_train_new), y_train)\n",
    "test = accuracy( clas(X_test_new), y_test)\n",
    "print('training accuracy : ',train)\n",
    "print('training accuracy : ',test)"
   ]
  },
  {
   "cell_type": "code",
   "execution_count": 12,
   "metadata": {},
   "outputs": [
    {
     "data": {
      "text/plain": [
       "<matplotlib.legend.Legend at 0x7f48a3215520>"
      ]
     },
     "execution_count": 12,
     "metadata": {},
     "output_type": "execute_result"
    },
    {
     "data": {
      "image/png": "[encoded data removed]",
      "text/plain": [
       "<Figure size 432x288 with 1 Axes>"
      ]
     },
     "metadata": {},
     "output_type": "display_data"
    }
   ],
   "source": [
    "color=['m','c','y']\n",
    "plt.title('for training')\n",
    "flag=[0,0,0]\n",
    "for i in range(X_train_new.shape[0]):\n",
    "    if(y_train[i]==0):\n",
    "        if(flag[0]==0):\n",
    "            plt.scatter(X_train_new[i][0],X_train_new[i][1],color='r',marker='^',label='Iris-setosa')\n",
    "            flag[0]=1\n",
    "        if(flag[0]==1):\n",
    "            plt.scatter(X_train_new[i][0],X_train_new[i][1],color='r',marker='^')\n",
    "    if(y_train[i]==1):\n",
    "        if(flag[1]==0):\n",
    "            flag[1]=1\n",
    "            plt.scatter(X_train_new[i][0],X_train_new[i][1],color='b',label='Iris-versicolor',marker='*')\n",
    "        if(flag[1]==1):\n",
    "            plt.scatter(X_train_new[i][0],X_train_new[i][1],color='b',marker='*')\n",
    "    if(y_train[i]==2):\n",
    "        if(flag[2]==0):\n",
    "            flag[2]=1\n",
    "            plt.scatter(X_train_new[i][0],X_train_new[i][1],color='g',label='Iris-virginica',marker=',')\n",
    "        if(flag[2]==1):\n",
    "            plt.scatter(X_train_new[i][0],X_train_new[i][1],color='g',marker=',')\n",
    "for i in range(3):\n",
    "    x1=mean11[(i+1)%3][0]+mean11[(i+2)%3][0]\n",
    "    plt.axvline(x=x1/2,color=color[i],ymin=-2,ymax=2)\n",
    "plt.legend()"
   ]
  },
  {
   "cell_type": "code",
   "execution_count": 13,
   "metadata": {},
   "outputs": [
    {
     "data": {
      "text/plain": [
       "<matplotlib.legend.Legend at 0x7f48a2f65790>"
      ]
     },
     "execution_count": 13,
     "metadata": {},
     "output_type": "execute_result"
    },
    {
     "data": {
      "image/png": "[encoded data removed]",
      "text/plain": [
       "<Figure size 432x288 with 1 Axes>"
      ]
     },
     "metadata": {},
     "output_type": "display_data"
    }
   ],
   "source": [
    "color=['m','c','y']\n",
    "plt.title('for testing')\n",
    "flag=[0,0,0]\n",
    "y_test=clas(X_test_new)\n",
    "for i in range(X_test_new.shape[0]):\n",
    "    if(y_test[i]==0 ):\n",
    "        if(flag[0]==0):\n",
    "            plt.scatter(X_test_new[i][0],X_test_new[i][1],color='r',label='Iris-setosa',marker='^')\n",
    "            flag[0]=1\n",
    "        if(flag[0]==1):\n",
    "            plt.scatter(X_test_new[i][0],X_test_new[i][1],color='r',marker='^')\n",
    "    if(y_test[i]==1):\n",
    "        if(flag[1]==0):\n",
    "            flag[1]=1\n",
    "            plt.scatter(X_test_new[i][0],X_test_new[i][1],color='b',label='Iris-versicolor',marker='*')\n",
    "        if(flag[1]==1):\n",
    "            plt.scatter(X_test_new[i][0],X_test_new[i][1],color='b',marker='*')\n",
    "    if(y_test[i]==2):\n",
    "        if(flag[2]==0):\n",
    "            flag[2]=1\n",
    "            plt.scatter(X_test_new[i][0],X_test_new[i][1],color='g',label='Iris-virginica',marker=',')\n",
    "        if(flag[2]==1):\n",
    "            plt.scatter(X_test_new[i][0],X_test_new[i][1],color='g',marker=',')\n",
    "for i in range(3):\n",
    "    x1=mean11[(i+1)%3][0]+mean11[(i+2)%3][0]\n",
    "    plt.axvline(x=x1/2,color=color[i],ymin=-2,ymax=2)\n",
    "plt.legend()"
   ]
  },
  {
   "cell_type": "markdown",
   "metadata": {},
   "source": [
    "### explanations :\n",
    "            1. 1st found lda with sw and sb then found the w matrix with 2 eigen vectors (2 because 3 classes (n-1) is preferable sometimes)\n",
    "            2. now projected all the training and testing into the 2d space\n",
    "            3. plotted the decission boundary using vertical lines because the slopes are almost infinity and  if plotted correctly it is suppressing the points so plotted by using the decission rule of lda-nearest of the means \n",
    "            4. train data is well seperated by boundaries which can be clearly seen only 3 points are out  of  boundaries so accuracies are very higher using ldas\n",
    "            5. test data is well seperated by boundaries which can be clearly seen no points are outside of the boundaries so accuracies is 100 using lda for this "
   ]
  },
  {
   "cell_type": "code",
   "execution_count": null,
   "metadata": {},
   "outputs": [],
   "source": []
  }
 ],
 "metadata": {
  "kernelspec": {
   "display_name": "Python 3",
   "language": "python",
   "name": "python3"
  },
  "language_info": {
   "codemirror_mode": {
    "name": "ipython",
    "version": 3
   },
   "file_extension": ".py",
   "mimetype": "text/x-python",
   "name": "python",
   "nbconvert_exporter": "python",
   "pygments_lexer": "ipython3",
   "version": "3.6.9"
  }
 },
 "nbformat": 4,
 "nbformat_minor": 2
}

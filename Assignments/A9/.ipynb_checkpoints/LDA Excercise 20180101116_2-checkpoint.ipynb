{
 "cells": [
  {
   "cell_type": "markdown",
   "metadata": {},
   "source": [
    "# Excercise 1\n",
    "\n",
    "In the tutorial you saw how to compute LDA for a two class problem. In this excercise we will work on a multi-class problem. We will be working with the famous Iris dataset that has been deposited on the UCI machine learning repository\n",
    "(https://archive.ics.uci.edu/ml/datasets/Iris).\n",
    "\n",
    "The iris dataset contains measurements for 150 iris flowers from three different species.\n",
    "\n",
    "The three classes in the Iris dataset:\n",
    "1. Iris-setosa (n=50)\n",
    "2. Iris-versicolor (n=50)\n",
    "3. Iris-virginica (n=50)\n",
    "\n",
    "The four features of the Iris dataset:\n",
    "1. sepal length in cm\n",
    "2. sepal width in cm\n",
    "3. petal length in cm\n",
    "4. petal width in cm\n",
    "\n",
    "<img src=\"iris_petal_sepal.png\">\n",
    "\n"
   ]
  },
  {
   "cell_type": "code",
   "execution_count": 1,
   "metadata": {},
   "outputs": [],
   "source": [
    "from sklearn.datasets import make_classification\n",
    "import matplotlib.pyplot as plt\n",
    "import numpy as np\n",
    "import seaborn as sns; sns.set();\n",
    "import pandas as pd\n",
    "from sklearn.model_selection import train_test_split\n",
    "from numpy import pi"
   ]
  },
  {
   "cell_type": "markdown",
   "metadata": {},
   "source": [
    "### Importing the dataset"
   ]
  },
  {
   "cell_type": "code",
   "execution_count": 2,
   "metadata": {},
   "outputs": [
    {
     "data": {
      "text/html": [
       "<div>\n",
       "<style scoped>\n",
       "    .dataframe tbody tr th:only-of-type {\n",
       "        vertical-align: middle;\n",
       "    }\n",
       "\n",
       "    .dataframe tbody tr th {\n",
       "        vertical-align: top;\n",
       "    }\n",
       "\n",
       "    .dataframe thead th {\n",
       "        text-align: right;\n",
       "    }\n",
       "</style>\n",
       "<table border=\"1\" class=\"dataframe\">\n",
       "  <thead>\n",
       "    <tr style=\"text-align: right;\">\n",
       "      <th></th>\n",
       "      <th>sepal-length</th>\n",
       "      <th>sepal-width</th>\n",
       "      <th>petal-length</th>\n",
       "      <th>petal-width</th>\n",
       "      <th>Class</th>\n",
       "    </tr>\n",
       "  </thead>\n",
       "  <tbody>\n",
       "    <tr>\n",
       "      <th>145</th>\n",
       "      <td>6.7</td>\n",
       "      <td>3.0</td>\n",
       "      <td>5.2</td>\n",
       "      <td>2.3</td>\n",
       "      <td>Iris-virginica</td>\n",
       "    </tr>\n",
       "    <tr>\n",
       "      <th>146</th>\n",
       "      <td>6.3</td>\n",
       "      <td>2.5</td>\n",
       "      <td>5.0</td>\n",
       "      <td>1.9</td>\n",
       "      <td>Iris-virginica</td>\n",
       "    </tr>\n",
       "    <tr>\n",
       "      <th>147</th>\n",
       "      <td>6.5</td>\n",
       "      <td>3.0</td>\n",
       "      <td>5.2</td>\n",
       "      <td>2.0</td>\n",
       "      <td>Iris-virginica</td>\n",
       "    </tr>\n",
       "    <tr>\n",
       "      <th>148</th>\n",
       "      <td>6.2</td>\n",
       "      <td>3.4</td>\n",
       "      <td>5.4</td>\n",
       "      <td>2.3</td>\n",
       "      <td>Iris-virginica</td>\n",
       "    </tr>\n",
       "    <tr>\n",
       "      <th>149</th>\n",
       "      <td>5.9</td>\n",
       "      <td>3.0</td>\n",
       "      <td>5.1</td>\n",
       "      <td>1.8</td>\n",
       "      <td>Iris-virginica</td>\n",
       "    </tr>\n",
       "  </tbody>\n",
       "</table>\n",
       "</div>"
      ],
      "text/plain": [
       "     sepal-length  sepal-width  petal-length  petal-width           Class\n",
       "145           6.7          3.0           5.2          2.3  Iris-virginica\n",
       "146           6.3          2.5           5.0          1.9  Iris-virginica\n",
       "147           6.5          3.0           5.2          2.0  Iris-virginica\n",
       "148           6.2          3.4           5.4          2.3  Iris-virginica\n",
       "149           5.9          3.0           5.1          1.8  Iris-virginica"
      ]
     },
     "execution_count": 2,
     "metadata": {},
     "output_type": "execute_result"
    }
   ],
   "source": [
    "url = \"https://archive.ics.uci.edu/ml/machine-learning-databases/iris/iris.data\"\n",
    "names = ['sepal-length', 'sepal-width', 'petal-length', 'petal-width', 'Class']\n",
    "dataset = pd.read_csv(url, names=names)\n",
    "\n",
    "dataset.tail()"
   ]
  },
  {
   "cell_type": "markdown",
   "metadata": {},
   "source": [
    "### Data preprocessing\n",
    "\n",
    "Once dataset is loaded into a pandas data frame object, the first step is to divide dataset into features and corresponding labels and then divide the resultant dataset into training and test sets. The following code divides data into labels and feature set:"
   ]
  },
  {
   "cell_type": "code",
   "execution_count": 3,
   "metadata": {},
   "outputs": [],
   "source": [
    "X = dataset.iloc[:, 0:4].values\n",
    "y = dataset.iloc[:, 4].values"
   ]
  },
  {
   "cell_type": "markdown",
   "metadata": {},
   "source": [
    "The above script assigns the first four columns of the dataset i.e. the feature set to X variable while the values in the fifth column (labels) are assigned to the y variable.\n",
    "\n",
    "The following code divides data into training and test sets:"
   ]
  },
  {
   "cell_type": "code",
   "execution_count": 4,
   "metadata": {},
   "outputs": [
    {
     "name": "stdout",
     "output_type": "stream",
     "text": [
      "[0 1 2]\n"
     ]
    }
   ],
   "source": [
    "from sklearn.model_selection import train_test_split\n",
    "\n",
    "X_train, X_test, y_train, y_test = train_test_split(X, y, test_size=0.2, random_state=0)\n",
    "y_train[y_train=='Iris-setosa']=0\n",
    "y_train[y_train=='Iris-versicolor']=1\n",
    "y_train[y_train=='Iris-virginica']=2\n",
    "y_train=np.array(y_train,'int')\n",
    "y_test[y_test=='Iris-setosa']=0\n",
    "y_test[y_test=='Iris-versicolor']=1\n",
    "y_test[y_test=='Iris-virginica']=2\n",
    "y_test=np.array(y_test,'int')\n",
    "\n",
    "print(np.unique(y_train))"
   ]
  },
  {
   "cell_type": "markdown",
   "metadata": {},
   "source": [
    "#### Feature Scaling\n",
    "\n",
    "We will now perform feature scaling as part of data preprocessing too. For this task, we will be using scikit learn `StandardScalar`."
   ]
  },
  {
   "cell_type": "code",
   "execution_count": 5,
   "metadata": {},
   "outputs": [],
   "source": [
    "from sklearn.preprocessing import StandardScaler\n",
    "\n",
    "sc = StandardScaler()\n",
    "X_train = sc.fit_transform(X_train)\n",
    "X_test = sc.transform(X_test)"
   ]
  },
  {
   "cell_type": "markdown",
   "metadata": {},
   "source": [
    "## Write your code below\n",
    "\n",
    "Write you code below to LDA on the IRIS dataset and compute the overall accuracy of the classifier."
   ]
  },
  {
   "cell_type": "code",
   "execution_count": 6,
   "metadata": {},
   "outputs": [
    {
     "name": "stdout",
     "output_type": "stream",
     "text": [
      "[[-1.01586337  0.81196943 -1.32453421 -1.28332359]\n",
      " [ 0.00667522 -0.67697955  0.22525676  0.12090146]\n",
      " [ 0.8948111  -0.15042192  0.9845985   1.03582423]]\n",
      "[ 0.00000000e+00 -7.49863135e-16  4.25585493e-16  1.22124533e-16]\n"
     ]
    }
   ],
   "source": [
    "### WRITE YOUR CODE HERE ####\n",
    "#finding means\n",
    "\n",
    "meanval1=np.zeros((3,4))\n",
    "final=np.zeros(X_train.shape[1])\n",
    "tag=[0,0,0]\n",
    "for i in range(X_train.shape[0]):\n",
    "    if (y_train[i]==0):\n",
    "        meanval1[0]=meanval1[0]+X_train[i]\n",
    "        tag[0]+=1\n",
    "    if (y_train[i]==1):\n",
    "        meanval1[1]=meanval1[1]+X_train[i]\n",
    "        tag[1]+=1\n",
    "    if (y_train[i]==2):\n",
    "        meanval1[2]=meanval1[2]+X_train[i]\n",
    "        tag[2]+=1\n",
    "    final+=X_train[i]\n",
    "final=final/np.sum(tag)\n",
    "meanval1[0]/=tag[0]\n",
    "meanval1[1]/=tag[1]\n",
    "meanval1[2]/=tag[2]\n",
    "print(meanval1)\n",
    "print(final)\n",
    "\n"
   ]
  },
  {
   "cell_type": "code",
   "execution_count": 7,
   "metadata": {},
   "outputs": [
    {
     "name": "stdout",
     "output_type": "stream",
     "text": [
      "[[44.52097054 30.99078596 13.79582236  7.7224602 ]\n",
      " [30.99078596 76.33479439  8.78955077 11.47388844]\n",
      " [13.79582236  8.78955077  7.0462481   4.00213667]\n",
      " [ 7.7224602  11.47388844  4.00213667  8.02030645]]\n",
      "[[ 75.47902946 -38.25871753  91.29722578  91.65558497]\n",
      " [-38.25871753  43.66520561 -54.10268478 -50.52279974]\n",
      " [ 91.29722578 -54.10268478 112.9537519  112.1744104 ]\n",
      " [ 91.65558497 -50.52279974 112.1744104  111.97969355]]\n",
      "[[ 0.18577978 -0.14698435]\n",
      " [ 0.11909601  0.14114054]\n",
      " [-0.86734704  0.7132952 ]\n",
      " [-0.44610662 -0.53054902]] [ 3.20713082e+01+0.00000000e+00j -2.33645703e-15+2.94403451e-15j]\n"
     ]
    }
   ],
   "source": [
    "#Function for finding sw and sb\n",
    "sw=np.zeros((4,4))\n",
    "diff=X_train-meanval1[y_train]\n",
    "sw=diff.T@diff\n",
    "print(sw)\n",
    "sb=np.zeros((4,4))\n",
    "t=3\n",
    "for i in range(3):\n",
    "    #stor=meanval1[i]-final\n",
    "    mat=np.array(meanval1[i]-final)\n",
    "    mat=[mat]\n",
    "    mat=np.array(mat)\n",
    "    a=sb\n",
    "    sb=(tag[i]*np.matmul(mat.T,mat))\n",
    "    sb=sb+a\n",
    "print(sb)\n",
    "eigvals, eigvecs = np.linalg.eig(np.linalg.pinv(sw).dot(sb))\n",
    "idx = eigvals.argsort()[::-2]\n",
    "eigvals = eigvals[idx][:2]\n",
    "w = np.real(np.atleast_1d(eigvecs[:, idx])[:, :2])\n",
    "print(w,eigvals)\n",
    "\n",
    "\n"
   ]
  },
  {
   "cell_type": "code",
   "execution_count": 8,
   "metadata": {},
   "outputs": [],
   "source": [
    "def clas(X):\n",
    "    return np.argmin([np.sqrt(((X - mean11[i])**2).sum(axis=1)) for i in range(3)], axis=0)\n",
    "def accuracy(y_pred, y_actual):\n",
    "    return (y_pred==y_actual).sum()/y_actual.shape[0]*100"
   ]
  },
  {
   "cell_type": "code",
   "execution_count": 9,
   "metadata": {},
   "outputs": [
    {
     "name": "stdout",
     "output_type": "stream",
     "text": [
      "[-5.12916592e-16  1.32938950e-16]\n",
      "[[ 1.62930543e+00 -1.22124533e-15]\n",
      " [-3.28696166e-01  4.44089210e-15]\n",
      " [-1.16775349e+00 -2.55351296e-15]]\n",
      "Printing training accuracy :  98.33333333333333\n",
      "Printing testing accuracy :  100.0\n"
     ]
    }
   ],
   "source": [
    "X_train_new=X_train@w\n",
    "X_test_new=X_test@w\n",
    "mean11=meanval1@w\n",
    "final_new=final@w\n",
    "print(final_new)\n",
    "print(mean11)\n",
    "\n",
    "train_final = accuracy( clas(X_train_new), y_train)\n",
    "test_final = accuracy( clas(X_test_new), y_test)\n",
    "print('Printing training accuracy : ',train_final)\n",
    "print('Printing testing accuracy : ',test_final)"
   ]
  },
  {
   "cell_type": "code",
   "execution_count": 10,
   "metadata": {},
   "outputs": [],
   "source": [
    "def pca(X_input, num_components):\n",
    "\n",
    "    \"\"\" PCA algorithm as per our pseudo code above.\n",
    "\n",
    "    Parameters:\n",
    "    --------------\n",
    "\n",
    "    X_input: ndarray (num_examples (rows) x num_features(columns))\n",
    "    Our input data on which we would like to perform PCA.\n",
    "\n",
    "    num_components: int\n",
    "    Defines the kth number of principal components (or eigenvectors) to keep\n",
    "    while performing PCA. These components will be chosen in decreasing \n",
    "    order of variances (or eigenvalues).\n",
    "\n",
    "    \"\"\"\n",
    "\n",
    "    # Centering our data (Step 1)\n",
    "    X_mean = np.mean(X_input, axis=0)\n",
    "    X_mean = X_mean.reshape(1, -1)\n",
    "    X_input -= X_mean\n",
    "\n",
    "    num_examples = (X_input.shape)[0]\n",
    "    constant = 1/(num_examples - 1)\n",
    "\n",
    "    # Calculating covariance matrix (Step 2)\n",
    "    cov_matrix = constant * np.dot(X_input.T, X_input)\n",
    "    cov_matrix = np.array(cov_matrix, dtype=float)\n",
    "\n",
    "    # Calculating eigen values and eigen vectors (or first n-principal components)\n",
    "    # Step 3\n",
    "    eigvals, eigvecs = np.linalg.eig(cov_matrix)\n",
    "\n",
    "    # Step 4\n",
    "    idx = eigvals.argsort()[::-1]\n",
    "    eigvals = eigvals[idx][:num_components]\n",
    "    eigvecs = np.atleast_1d(eigvecs[:, idx])[:, :num_components]\n",
    "\n",
    "    X_projected = np.dot(X_input, eigvecs)\n",
    "    eigvecs = eigvecs.T\n",
    "    return X_projected,eigvecs"
   ]
  },
  {
   "cell_type": "code",
   "execution_count": 11,
   "metadata": {},
   "outputs": [
    {
     "name": "stdout",
     "output_type": "stream",
     "text": [
      "final means in lda: [[ 1.62930543e+00 -1.22124533e-15]\n",
      " [-3.28696166e-01  4.44089210e-15]\n",
      " [-1.16775349e+00 -2.55351296e-15]]\n",
      "w for pca : [[ 0.52843794 -0.23201227  0.58394827  0.5709011 ]\n",
      " [-0.3554837  -0.93369239 -0.00795684 -0.04226763]]\n"
     ]
    },
    {
     "data": {
      "image/png": "[encoded data removed]",
      "text/plain": [
       "<Figure size 504x1008 with 2 Axes>"
      ]
     },
     "metadata": {},
     "output_type": "display_data"
    }
   ],
   "source": [
    "X_train_new=X_train@w\n",
    "X_test_new=X_test@w\n",
    "mean11=meanval1@w\n",
    "final_new=final@w\n",
    "print('final means in lda:',mean11)\n",
    "color=['m','c','y']\n",
    "flag=[0,0,0]\n",
    "plt.figure(figsize=(7,14))\n",
    "plt.subplot(211)\n",
    "plt.title('for lda')\n",
    "for i in range(X_train_new.shape[0]):\n",
    "    if(y_train[i]==0):\n",
    "        if(flag[0]==0):\n",
    "            plt.scatter(X_train_new[i][0],X_train_new[i][1],color='r',marker='^',label='Iris-setosa')\n",
    "            flag[0]=1\n",
    "        if(flag[0]==1):\n",
    "            plt.scatter(X_train_new[i][0],X_train_new[i][1],color='r',marker='^')\n",
    "    if(y_train[i]==1):\n",
    "        if(flag[1]==0):\n",
    "            flag[1]=1\n",
    "            plt.scatter(X_train_new[i][0],X_train_new[i][1],color='b',label='Iris-versicolor',marker='*')\n",
    "        if(flag[1]==1):\n",
    "            plt.scatter(X_train_new[i][0],X_train_new[i][1],color='b',marker='*')\n",
    "    if(y_train[i]==2):\n",
    "        if(flag[2]==0):\n",
    "            flag[2]=1\n",
    "            plt.scatter(X_train_new[i][0],X_train_new[i][1],color='g',label='Iris-virginica',marker=',')\n",
    "        if(flag[2]==1):\n",
    "            plt.scatter(X_train_new[i][0],X_train_new[i][1],color='g',marker=',')\n",
    "plt.legend()\n",
    "plt.subplot(212)\n",
    "flag=[0,0,0]\n",
    "plt.title('with pca')\n",
    "X_train_new,eig=pca(X_train,2)\n",
    "for i in range(X_train_new.shape[0]):\n",
    "    if(y_train[i]==0):\n",
    "        if(flag[0]==0):\n",
    "            plt.scatter(X_train_new[i][0],X_train_new[i][1],color='r',marker='^',label='Iris-setosa')\n",
    "            flag[0]=1\n",
    "        if(flag[0]==1):\n",
    "            plt.scatter(X_train_new[i][0],X_train_new[i][1],color='r',marker='^')\n",
    "    if(y_train[i]==1):\n",
    "        if(flag[1]==0):\n",
    "            flag[1]=1\n",
    "            plt.scatter(X_train_new[i][0],X_train_new[i][1],color='b',label='Iris-versicolor',marker='*')\n",
    "        if(flag[1]==1):\n",
    "            plt.scatter(X_train_new[i][0],X_train_new[i][1],color='b',marker='*')\n",
    "    if(y_train[i]==2):\n",
    "        if(flag[2]==0):\n",
    "            flag[2]=1\n",
    "            plt.scatter(X_train_new[i][0],X_train_new[i][1],color='g',label='Iris-virginica',marker=',')\n",
    "        if(flag[2]==1):\n",
    "            plt.scatter(X_train_new[i][0],X_train_new[i][1],color='g',marker=',')\n",
    "print('w for pca :',eig)\n",
    "plt.legend()\n",
    "plt.tight_layout()\n",
    "plt.show()"
   ]
  }
 ],
 "metadata": {
  "kernelspec": {
   "display_name": "Python 3",
   "language": "python",
   "name": "python3"
  },
  "language_info": {
   "codemirror_mode": {
    "name": "ipython",
    "version": 3
   },
   "file_extension": ".py",
   "mimetype": "text/x-python",
   "name": "python",
   "nbconvert_exporter": "python",
   "pygments_lexer": "ipython3",
   "version": "3.6.9"
  }
 },
 "nbformat": 4,
 "nbformat_minor": 2
}

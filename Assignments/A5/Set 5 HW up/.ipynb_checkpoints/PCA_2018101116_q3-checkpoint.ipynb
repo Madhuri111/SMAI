{
 "cells": [
  {
   "cell_type": "markdown",
   "metadata": {
    "colab_type": "text",
    "id": "2aEkoZdVfCpr"
   },
   "source": [
    "# Excercise: Eigen Face\n",
    "\n",
    "Here, we will look into ability of PCA to perform dimensionality reduction on a set of Labeled Faces in the Wild dataset made available from scikit-learn. Our images will be of shape (62, 47). This problem is also famously known as the eigenface problem. Mathematically, we would like to find the principal components (or eigenvectors) of the covariance matrix of the set of face images. These eigenvectors are essentially a set of orthonormal features depicts the amount of variation between face images. When plotted, these eigenvectors are called eigenfaces."
   ]
  },
  {
   "cell_type": "markdown",
   "metadata": {},
   "source": [
    "#### Imports"
   ]
  },
  {
   "cell_type": "code",
   "execution_count": 1,
   "metadata": {},
   "outputs": [],
   "source": [
    "import numpy as np\n",
    "import matplotlib.pyplot as plt\n",
    "from numpy import pi\n",
    "from sklearn.datasets import fetch_lfw_people\n",
    "\n",
    "import seaborn as sns; sns.set()"
   ]
  },
  {
   "cell_type": "code",
   "execution_count": 2,
   "metadata": {},
   "outputs": [],
   "source": [
    "def plot_faces(noisy_faces,h):\n",
    "    fig, axes = plt.subplots(1, h, figsize=(10, 2.5),\n",
    "                             subplot_kw={'xticks':[], 'yticks':[]},\n",
    "                             gridspec_kw=dict(hspace=0.1, wspace=0.1))\n",
    "    for i, ax in enumerate(axes.flat):\n",
    "      ax.imshow(noisy_faces[i].reshape(62, 47), cmap='binary_r')\n",
    "    \n",
    "    \n",
    "def thresholdfre(array,percantage):\n",
    "    percantage=percantage/100\n",
    "    new=np.cumsum(array)\n",
    "    new=new/new[len(array)-1]\n",
    "    plt.plot(new)\n",
    "    plt.figure()\n",
    "    for i in range(0,len(new)):\n",
    "      if (new[i]>=percantage):\n",
    "        return i+1\n",
    "      #returning when ever it crosses thre and +1 because indexing "
   ]
  },
  {
   "cell_type": "markdown",
   "metadata": {},
   "source": [
    "#### Setup data"
   ]
  },
  {
   "cell_type": "code",
   "execution_count": 3,
   "metadata": {
    "colab": {
     "base_uri": "https://localhost:8080/",
     "height": 134
    },
    "colab_type": "code",
    "executionInfo": {
     "elapsed": 22220,
     "status": "ok",
     "timestamp": 1596983739815,
     "user": {
      "displayName": "KARTIK RISHI BHARADWAJ 14BEE0070",
      "photoUrl": "",
      "userId": "12368401133146776355"
     },
     "user_tz": -330
    },
    "id": "plvaURfdX-Ux",
    "outputId": "b7eddf4b-00d1-4ec9-e77c-402ae7f5562b",
    "scrolled": true
   },
   "outputs": [
    {
     "name": "stdout",
     "output_type": "stream",
     "text": [
      "['Abdullah Gul' 'Adrien Brody' 'Al Gore' 'Alejandro Toledo' 'Ali Naimi'\n",
      " 'Alvaro Uribe' 'Amelie Mauresmo' 'Ana Palacio' 'Andre Agassi'\n",
      " 'Andy Roddick' 'Angelina Jolie' 'Ann Veneman' 'Anna Kournikova'\n",
      " 'Antonio Palocci' 'Ari Fleischer' 'Ariel Sharon' 'Arnold Schwarzenegger'\n",
      " 'Atal Bihari Vajpayee' 'Bill Clinton' 'Bill Frist' 'Bill Gates'\n",
      " 'Bill Graham' 'Bill McBride' 'Bill Simon' 'Bob Hope' 'Britney Spears'\n",
      " 'Carlos Menem' 'Carlos Moya' 'Catherine Zeta-Jones' 'Celine Dion'\n",
      " 'Cesar Gaviria' 'Charles Moose' 'Charles Taylor' 'Colin Farrell'\n",
      " 'Colin Powell' 'Condoleezza Rice' 'David Beckham' 'David Nalbandian'\n",
      " 'Dick Cheney' 'Dominique de Villepin' 'Donald Rumsfeld' 'Edmund Stoiber'\n",
      " 'Eduardo Duhalde' 'Fernando Gonzalez' 'Fernando Henrique Cardoso'\n",
      " 'Fidel Castro' 'George Clooney' 'George HW Bush' 'George Robertson'\n",
      " 'George W Bush' 'Gerhard Schroeder' 'Gerry Adams'\n",
      " 'Gloria Macapagal Arroyo' 'Gonzalo Sanchez de Lozada' 'Gordon Brown'\n",
      " 'Gray Davis' 'Guillermo Coria' 'Halle Berry' 'Hamid Karzai' 'Hans Blix'\n",
      " 'Harrison Ford' 'Heizo Takenaka' 'Hillary Clinton' 'Hosni Mubarak'\n",
      " 'Howard Dean' 'Hu Jintao' 'Hugh Grant' 'Hugo Chavez' 'Ian Thorpe'\n",
      " 'Igor Ivanov' 'Jack Straw' 'Jackie Chan' 'Jacques Chirac' 'Jacques Rogge'\n",
      " 'James Blake' 'James Kelly' 'Jason Kidd' 'Javier Solana' 'Jean Charest'\n",
      " 'Jean Chretien' 'Jean-David Levitte' 'Jeb Bush' 'Jelena Dokic'\n",
      " 'Jennifer Aniston' 'Jennifer Capriati' 'Jennifer Garner' 'Jennifer Lopez'\n",
      " 'Jeong Se-hyun' 'Jeremy Greenstock' 'Jesse Jackson' 'Jiang Zemin'\n",
      " 'Jimmy Carter' 'Jiri Novak' 'Joan Laporta' 'Joe Lieberman' 'John Abizaid'\n",
      " 'John Allen Muhammad' 'John Ashcroft' 'John Bolton' 'John Edwards'\n",
      " 'John Howard' 'John Kerry' 'John Negroponte' 'John Paul II' 'John Snow'\n",
      " 'Jonathan Edwards' 'Joschka Fischer' 'Jose Maria Aznar' 'Jose Serra'\n",
      " 'Juan Carlos Ferrero' 'Juan Pablo Montoya' 'Julianne Moore'\n",
      " 'Julie Gerberding' 'Junichiro Koizumi' 'Justin Timberlake' 'Kate Hudson'\n",
      " 'Keanu Reeves' 'Kevin Costner' 'Kim Clijsters' 'Kim Dae-jung'\n",
      " 'Kim Ryong-sung' 'Kofi Annan' 'Lance Armstrong' 'Laura Bush'\n",
      " 'Leonardo DiCaprio' 'Li Peng' 'Li Zhaoxing' 'Lindsay Davenport'\n",
      " 'Lleyton Hewitt' 'Lucio Gutierrez' 'Luiz Inacio Lula da Silva'\n",
      " 'Mahathir Mohamad' 'Mahmoud Abbas' 'Maria Shriver' 'Mark Philippoussis'\n",
      " 'Megawati Sukarnoputri' 'Meryl Streep' 'Michael Bloomberg'\n",
      " 'Michael Chang' 'Michael Jackson' 'Michael Schumacher' 'Michelle Kwan'\n",
      " 'Mike Weir' 'Mohamed ElBaradei' 'Mohammad Khatami' 'Mohammed Al-Douri'\n",
      " 'Muhammad Ali' 'Naji Sabri' 'Nancy Pelosi' 'Naomi Watts'\n",
      " 'Nestor Kirchner' 'Nicanor Duarte Frutos' 'Nicole Kidman' 'Norah Jones'\n",
      " 'Paradorn Srichaphan' 'Paul Bremer' 'Paul Burrell' 'Paul Martin'\n",
      " 'Paul ONeill' 'Paul Wolfowitz' 'Pervez Musharraf' 'Pete Sampras'\n",
      " 'Pierce Brosnan' 'Queen Elizabeth II' 'Ralf Schumacher' 'Ray Romano'\n",
      " 'Recep Tayyip Erdogan' 'Renee Zellweger' 'Ricardo Lagos'\n",
      " 'Richard Armitage' 'Richard Gephardt' 'Richard Gere' 'Richard Myers'\n",
      " 'Richard Virenque' 'Robert Blake' 'Robert Duvall' 'Robert Redford'\n",
      " 'Roger Federer' 'Roh Moo-hyun' 'Ron Dittemore' 'Rubens Barrichello'\n",
      " 'Rudolph Giuliani' 'Saddam Hussein' 'Salma Hayek' 'Serena Williams'\n",
      " 'Sergey Lavrov' 'Sergio Vieira De Mello' 'Sheryl Crow' 'Shimon Peres'\n",
      " 'Silvio Berlusconi' 'Spencer Abraham' 'Sylvester Stallone'\n",
      " 'Taha Yassin Ramadan' 'Tang Jiaxuan' 'Thomas OBrien' 'Tiger Woods'\n",
      " 'Tim Henman' 'Tom Cruise' 'Tom Daschle' 'Tom Hanks' 'Tom Ridge'\n",
      " 'Tommy Franks' 'Tommy Thompson' 'Tony Blair' 'Trent Lott' 'Tung Chee-hwa'\n",
      " 'Vaclav Havel' 'Venus Williams' 'Vicente Fox' 'Vladimir Putin'\n",
      " 'Walter Mondale' 'Wen Jiabao' 'Winona Ryder' 'Yao Ming' 'Yasser Arafat'\n",
      " 'Yoriko Kawaguchi' 'Zhu Rongji']\n",
      "(4822, 62, 47)\n"
     ]
    }
   ],
   "source": [
    "faces = fetch_lfw_people(min_faces_per_person=8)\n",
    "X = faces.data\n",
    "y = faces.target\n",
    "\n",
    "print(faces.target_names)\n",
    "print(faces.images.shape)"
   ]
  },
  {
   "cell_type": "code",
   "execution_count": 4,
   "metadata": {},
   "outputs": [],
   "source": [
    "def pca_transform(X_input,percent, num_components):\n",
    "\n",
    "    \"\"\" PCA algorithm as per our pseudo code above.\n",
    "\n",
    "    Parameters:\n",
    "    --------------\n",
    "\n",
    "    X_input: ndarray (num_examples (rows) x num_features(columns))\n",
    "    Our input data on which we would like to perform PCA.\n",
    "\n",
    "    num_components: int\n",
    "    Defines the kth number of principal components (or eigenvectors) to keep\n",
    "    while performing PCA. These components will be chosen in decreasing \n",
    "    order of variances (or eigenvalues).\n",
    "\n",
    "    \"\"\"\n",
    "\n",
    "    # Centering our data (Step 1)\n",
    "    X_mean = np.mean(X_input, axis=0)\n",
    "    X_mean = X_mean.reshape(1, -1)\n",
    "    X_input -= X_mean\n",
    "\n",
    "    num_examples = (X_input.shape)[0]\n",
    "    constant = 1/(num_examples - 1)\n",
    "\n",
    "    # Calculating covariance matrix (Step 2)\n",
    "    cov_matrix = constant * np.dot(X_input.T, X_input)\n",
    "    cov_matrix = np.array(cov_matrix, dtype=float)\n",
    "\n",
    "    # Calculating eigen values and eigen vectors (or first n-principal components)\n",
    "    # Step 3\n",
    "    eigvals, eigvecs = np.linalg.eig(cov_matrix)\n",
    "\n",
    "    # Step 4\n",
    "    idx = eigvals.argsort()[::-1]\n",
    "    eigvals = eigvals[idx]\n",
    "    madhuri=thresholdfre(eigvals,95)\n",
    "    eigvals = eigvals[idx][:num_components]\n",
    "    eigvecs = np.atleast_1d(eigvecs[:, idx])[:, :num_components]\n",
    "    print(\"Question1:-Number of compoenents required=\",end=\"\")\n",
    "    print(madhuri)\n",
    "\n",
    "    X_projected = np.dot(X_input, eigvecs)\n",
    "    #eigvecs = eigvecs.T\n",
    "    return eigvecs, eigvals"
   ]
  },
  {
   "cell_type": "code",
   "execution_count": null,
   "metadata": {},
   "outputs": [],
   "source": [
    "eig_V,eig_v=pca_transform(X,95,100)\n",
    "X_re= X @ eig_V @ eig_V.T\n",
    "print(\"before:\")\n",
    "plot_faces(X,10)\n",
    "plt.figure()\n",
    "print(\"after:reconstruction of the first 10 face images using only 100 principal components\")\n",
    "plot_faces(X_re,10)"
   ]
  },
  {
   "cell_type": "markdown",
   "metadata": {
    "colab_type": "text",
    "id": "7LEmd2YHgAXN"
   },
   "source": [
    "Since our images is of the shape (62, 47), we unroll each image into a single row vector of shape (1, 2914). This means that we have 2914 features defining each image. These 2914 features will result into 2914 principal components in the PCA projection space. Therefore, each image location contributes more or less to each principal component."
   ]
  },
  {
   "cell_type": "markdown",
   "metadata": {},
   "source": [
    "#### Implement Eigen Faces"
   ]
  },
  {
   "cell_type": "markdown",
   "metadata": {
    "colab_type": "text",
    "id": "a0LBIuwXP6Dv"
   },
   "source": [
    "# Adding noise to images\n",
    "\n",
    "We now add gaussian noise to the images. Will PCA be able to effectively perform dimensionality reduction? "
   ]
  },
  {
   "cell_type": "code",
   "execution_count": null,
   "metadata": {
    "colab": {},
    "colab_type": "code",
    "executionInfo": {
     "elapsed": 61681,
     "status": "ok",
     "timestamp": 1596983779739,
     "user": {
      "displayName": "KARTIK RISHI BHARADWAJ 14BEE0070",
      "photoUrl": "",
      "userId": "12368401133146776355"
     },
     "user_tz": -330
    },
    "id": "TKDPL9MCMekO"
   },
   "outputs": [],
   "source": [
    "def plot_noisy_faces(noisy_faces):\n",
    "    fig, axes = plt.subplots(2, 10, figsize=(10, 2.5),\n",
    "                             subplot_kw={'xticks':[], 'yticks':[]},\n",
    "                             gridspec_kw=dict(hspace=0.1, wspace=0.1))\n",
    "    for i, ax in enumerate(axes.flat):\n",
    "      ax.imshow(noisy_faces[i].reshape(62, 47), cmap='binary_r')"
   ]
  },
  {
   "cell_type": "markdown",
   "metadata": {
    "colab_type": "text",
    "id": "ZRSbkzN1Quvg"
   },
   "source": [
    "Below we plot first twenty noisy input face images."
   ]
  },
  {
   "cell_type": "code",
   "execution_count": null,
   "metadata": {
    "colab": {
     "base_uri": "https://localhost:8080/",
     "height": 167
    },
    "colab_type": "code",
    "executionInfo": {
     "elapsed": 61646,
     "status": "ok",
     "timestamp": 1596983779741,
     "user": {
      "displayName": "KARTIK RISHI BHARADWAJ 14BEE0070",
      "photoUrl": "",
      "userId": "12368401133146776355"
     },
     "user_tz": -330
    },
    "id": "9zhLo04mN8z_",
    "outputId": "eac3bca6-f1cb-4be6-d2cb-c3556fcb69c4"
   },
   "outputs": [],
   "source": [
    "np.random.seed(42)\n",
    "noisy_faces = np.random.normal(X, 15)\n",
    "plot_noisy_faces(noisy_faces)\n",
    "\n",
    "eig_nV,eig_nv=pca_transform(noisy_faces,95,100)\n",
    "X_re_noise= noisy_faces @ eig_nV @ eig_nV.T\n",
    "plot_faces(noisy_faces,10)\n",
    "plt.figure()\n",
    "plot_faces(X_re_noise,10)"
   ]
  },
  {
   "cell_type": "code",
   "execution_count": null,
   "metadata": {},
   "outputs": [],
   "source": [
    "Question1:-principal components are required such that 95% of the variance in the data is preserved before noise=178\n",
    "\n",
    "    \n",
    "Questionn3:--principal components are required such that 95% of the variance in the data is preserved before noise=1014\n"
   ]
  }
 ],
 "metadata": {
  "colab": {
   "collapsed_sections": [],
   "name": "PCA_draft4.ipynb",
   "provenance": [],
   "toc_visible": true
  },
  "kernelspec": {
   "display_name": "Python 3",
   "language": "python",
   "name": "python3"
  },
  "language_info": {
   "codemirror_mode": {
    "name": "ipython",
    "version": 3
   },
   "file_extension": ".py",
   "mimetype": "text/x-python",
   "name": "python",
   "nbconvert_exporter": "python",
   "pygments_lexer": "ipython3",
   "version": "3.6.9"
  }
 },
 "nbformat": 4,
 "nbformat_minor": 1
}
